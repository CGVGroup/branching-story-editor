{
 "cells": [
  {
   "cell_type": "code",
   "execution_count": 1,
   "metadata": {},
   "outputs": [],
   "source": [
    "import xml.etree.ElementTree as ET\n",
    "import os"
   ]
  },
  {
   "cell_type": "code",
   "execution_count": 22,
   "metadata": {},
   "outputs": [],
   "source": [
    "\n",
    "# Function to parse the XML file\n",
    "def parse_node_xml(file_path):\n",
    "# Parse the XML file\n",
    "    tree = ET.parse(file_path)\n",
    "    root = tree.getroot()\n",
    "\n",
    "    file_name = os.path.splitext(os.path.basename(file_path))[0]\n",
    "    # Dictionary to hold parsed content\n",
    "    parsed_data = {'Name':file_name}\n",
    "\n",
    "    # Iterate over language nodes\n",
    "    for language in root.findall('language'):\n",
    "        lang_code = language.get('value')\n",
    "        parsed_data[lang_code] = {\n",
    "            'descriptions': {},\n",
    "            'nodePhrases': {}\n",
    "        }\n",
    "\n",
    "        # Extract descriptions by level (Novice, Intermediate, Expert)\n",
    "        for description in language.findall('description'):\n",
    "            level = description.get('level')\n",
    "            text = description.text.strip() if description.text else \"No description available\"\n",
    "            parsed_data[lang_code]['descriptions'][level] = text\n",
    "\n",
    "        # Extract node phrases by level (Novice, Intermediate, Expert)\n",
    "        for nodePhrase in language.findall('nodePhrase'):\n",
    "            level = nodePhrase.get('level')\n",
    "            clipId = nodePhrase.get('clipId')\n",
    "            text = nodePhrase.text.strip() if nodePhrase.text else \"No node phrase available\"\n",
    "            \n",
    "            if level not in parsed_data[lang_code]['nodePhrases']:\n",
    "                parsed_data[lang_code]['nodePhrases'][level] = {}\n",
    "\n",
    "            parsed_data[lang_code]['nodePhrases'][level][clipId] = text\n",
    "\n",
    "    return parsed_data\n",
    "\n",
    "\n",
    "def write_node_to_xml(node,filepath):\n",
    "    root=ET.Element(\"node\")\n",
    "\n",
    "    for \n",
    "\n",
    "    ET.SubElement(root,)\n",
    "\n",
    "def printParsedXml(parsed_content):\n",
    "    for language, content in parsed_content.items():\n",
    "        if(language==\"Name\"):\n",
    "            print(f\"{content}\\n\")\n",
    "            continue\n",
    "\n",
    "        print(f\"Language: {language}\")\n",
    "\n",
    "        print(\"Descriptions:\")\n",
    "        for level, description in content['descriptions'].items():\n",
    "            print(f\"  {level}: {description}\")\n",
    "    \n",
    "        print(\"\\nNode Phrases:\")\n",
    "        for level, phrases in content['nodePhrases'].items():\n",
    "            print(f\"  {level}:\")\n",
    "            for clipId, phrase in phrases.items():\n",
    "                print(f\"    {clipId}: {phrase}\")\n",
    "    \n",
    "        print(\"\\n\")"
   ]
  },
  {
   "cell_type": "code",
   "execution_count": 23,
   "metadata": {},
   "outputs": [
    {
     "name": "stdout",
     "output_type": "stream",
     "text": [
      "DefibrillatorInit\n",
      "\n",
      "Language: ITA\n",
      "Descriptions:\n",
      "  Novice: Posiziona le placche adesive come indicato sul torace del paziente e collegale al defibrillatore tramite lo spinotto.\n",
      "  Intermediate: Applica le placche e attacca lo spinotto.\n",
      "  Expert: Applica le placche e attacca lo spinotto.\n",
      "\n",
      "Node Phrases:\n",
      "  Novice:\n",
      "    DefibrillatorInitPaddlePlaced: piastra in posizione\n",
      "    DefibrillatorInitPaddlesPlaced: Tutte le piastre sono correttamente posizionate.\n",
      "    DefibrillatorInitPlugConnected: spinotto inserito\n",
      "    DefibrillatorInitUserInfoPaddles: posizionato le piastre sul petto\n",
      "    DefibrillatorInitUserInfoPlug: inserito lo spinotto\n",
      "    DefibrillatorInitUserInfoStart: Non hai ancora\n",
      "\n",
      "\n",
      "Language: ENG\n",
      "Descriptions:\n",
      "  Novice: Place the adhesive pads as indicated on the patient's chest and connect them to the defibrillator via the plug.\n",
      "  Intermediate: Attach the pads and plug in the connector.\n",
      "  Expert: Attach the pads and plug in the connector.\n",
      "\n",
      "Node Phrases:\n",
      "  Novice:\n",
      "    DefibrillatorInitPaddlePlaced: paddle in place\n",
      "    DefibrillatorInitPaddlesPlaced: All paddles correctly place.\n",
      "    DefibrillatorInitPlugConnected: connector plugged\n",
      "    DefibrillatorInitUserInfoPaddles: position both paddles on the chest\n",
      "    DefibrillatorInitUserInfoPlug: connected the plug\n",
      "    DefibrillatorInitUserInfoStart: You still did not\n",
      "\n",
      "\n"
     ]
    }
   ],
   "source": [
    "# Path to the XML file\n",
    "file_path = r\"..\\public\\xmls\\Educational-Contents\\BLSDPro\\DefibrillatorInit.xml\"\n",
    "\n",
    "# Call the function and print parsed data\n",
    "parsed_content = parse_node_xml(file_path)\n",
    "# Output the parsed descriptions and node phrases\n",
    "printParsedXml(parsed_content)"
   ]
  },
  {
   "cell_type": "code",
   "execution_count": 18,
   "metadata": {},
   "outputs": [
    {
     "name": "stdout",
     "output_type": "stream",
     "text": [
      "key: Name    value: DefibrillatorInit.xml\n",
      "\n",
      "key: ITA    value: {'descriptions': {'Novice': 'Posiziona le placche adesive come indicato sul torace del paziente e collegale al defibrillatore tramite lo spinotto.', 'Intermediate': 'Applica le placche e attacca lo spinotto.', 'Expert': 'Applica le placche e attacca lo spinotto.'}, 'nodePhrases': {'Novice': {'DefibrillatorInitPaddlePlaced': 'piastra in posizione', 'DefibrillatorInitPaddlesPlaced': 'Tutte le piastre sono correttamente posizionate.', 'DefibrillatorInitPlugConnected': 'spinotto inserito', 'DefibrillatorInitUserInfoPaddles': 'posizionato le piastre sul petto', 'DefibrillatorInitUserInfoPlug': 'inserito lo spinotto', 'DefibrillatorInitUserInfoStart': 'Non hai ancora'}}}\n",
      "\n",
      "key: ENG    value: {'descriptions': {'Novice': \"Place the adhesive pads as indicated on the patient's chest and connect them to the defibrillator via the plug.\", 'Intermediate': 'Attach the pads and plug in the connector.', 'Expert': 'Attach the pads and plug in the connector.'}, 'nodePhrases': {'Novice': {'DefibrillatorInitPaddlePlaced': 'paddle in place', 'DefibrillatorInitPaddlesPlaced': 'All paddles correctly place.', 'DefibrillatorInitPlugConnected': 'connector plugged', 'DefibrillatorInitUserInfoPaddles': 'position both paddles on the chest', 'DefibrillatorInitUserInfoPlug': 'connected the plug', 'DefibrillatorInitUserInfoStart': 'You still did not'}}}\n",
      "\n"
     ]
    }
   ],
   "source": [
    "x=parsed_content.items()\n",
    "\n",
    "for key,value in x:\n",
    "    print(f\"key: {key}    value: {value}\\n\")"
   ]
  },
  {
   "cell_type": "code",
   "execution_count": 15,
   "metadata": {},
   "outputs": [
    {
     "name": "stdout",
     "output_type": "stream",
     "text": [
      "{'Name': 'DefibrillatorInit.xml', 'ITA': {'descriptions': {'Novice': 'Posiziona le placche adesive come indicato sul torace del paziente e collegale al defibrillatore tramite lo spinotto.', 'Intermediate': 'Applica le placche e attacca lo spinotto.', 'Expert': 'Applica le placche e attacca lo spinotto.'}, 'nodePhrases': {'Novice': {'DefibrillatorInitPaddlePlaced': 'piastra in posizione', 'DefibrillatorInitPaddlesPlaced': 'Tutte le piastre sono correttamente posizionate.', 'DefibrillatorInitPlugConnected': 'spinotto inserito', 'DefibrillatorInitUserInfoPaddles': 'posizionato le piastre sul petto', 'DefibrillatorInitUserInfoPlug': 'inserito lo spinotto', 'DefibrillatorInitUserInfoStart': 'Non hai ancora'}}}, 'ENG': {'descriptions': {'Novice': \"Place the adhesive pads as indicated on the patient's chest and connect them to the defibrillator via the plug.\", 'Intermediate': 'Attach the pads and plug in the connector.', 'Expert': 'Attach the pads and plug in the connector.'}, 'nodePhrases': {'Novice': {'DefibrillatorInitPaddlePlaced': 'paddle in place', 'DefibrillatorInitPaddlesPlaced': 'All paddles correctly place.', 'DefibrillatorInitPlugConnected': 'connector plugged', 'DefibrillatorInitUserInfoPaddles': 'position both paddles on the chest', 'DefibrillatorInitUserInfoPlug': 'connected the plug', 'DefibrillatorInitUserInfoStart': 'You still did not'}}}}\n"
     ]
    }
   ],
   "source": [
    "print(parsed_content)"
   ]
  }
 ],
 "metadata": {
  "kernelspec": {
   "display_name": "tf",
   "language": "python",
   "name": "python3"
  },
  "language_info": {
   "codemirror_mode": {
    "name": "ipython",
    "version": 3
   },
   "file_extension": ".py",
   "mimetype": "text/x-python",
   "name": "python",
   "nbconvert_exporter": "python",
   "pygments_lexer": "ipython3",
   "version": "3.10.9"
  }
 },
 "nbformat": 4,
 "nbformat_minor": 2
}
